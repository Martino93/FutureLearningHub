{
 "cells": [
  {
   "cell_type": "code",
   "execution_count": null,
   "id": "4a2f34d6",
   "metadata": {},
   "outputs": [],
   "source": [
    "import os\n",
    "import time\n",
    "import pandas as pd\n",
    "from dotenv import load_dotenv\n",
    "from supabase import create_client, Client\n",
    "\n",
    "from langchain import PromptTemplate\n",
    "from langchain_ollama import ChatOllama\n",
    "from langchain_google_genai import ChatGoogleGenerativeAI\n",
    "from langchain_core.output_parsers import StrOutputParser\n",
    "\n",
    "load_dotenv()\n",
    "\n",
    "# Replace with your Supabase project URL and public anon key\n",
    "SUPABASE_URL = os.environ.get(\"SUPABASE_URL\")\n",
    "SUPABASE_KEY = os.environ.get(\"SUPABASE_KEY\")\n",
    "\n",
    "supabase: Client = create_client(SUPABASE_URL, SUPABASE_KEY)"
   ]
  },
  {
   "cell_type": "code",
   "execution_count": null,
   "id": "356cff04",
   "metadata": {},
   "outputs": [],
   "source": [
    "def get_concepts(live=False):\n",
    "    \"\"\"\n",
    "    Fetches the list of math concepts either from the Supabase database (live mode)\n",
    "    or from a locally saved pickle file (offline mode).\n",
    "\n",
    "    Args:\n",
    "        live (bool): If True, fetch concepts from the Supabase database. \n",
    "                     If False, load concepts from a local pickle file.\n",
    "\n",
    "    Returns:\n",
    "        DataFrame: A DataFrame containing the concepts.\n",
    "    \"\"\"\n",
    "    if live:\n",
    "        # Query the \"concepts\" table from Supabase\n",
    "        response = supabase.table(\"concepts\").select(\"*\").filter(\"parent_id\", \"not.is.null\", None).execute()\n",
    "\n",
    "        # Extract concept names and create a DataFrame\n",
    "        concepts = pd.DataFrame.from_records(response.data)\n",
    "\n",
    "        # Save the DataFrame to a pickle file for offline use\n",
    "        concepts.to_pickle(\"concepts.pkl\")\n",
    "        return concepts\n",
    "    else:\n",
    "        # Load the DataFrame from the pickle file\n",
    "        concepts = pd.read_pickle(\"concepts.pkl\")\n",
    "        return concepts\n",
    "    \n",
    "# get_concepts(live=True)"
   ]
  },
  {
   "cell_type": "code",
   "execution_count": null,
   "id": "09ffa8ff",
   "metadata": {},
   "outputs": [],
   "source": []
  }
 ],
 "metadata": {
  "kernelspec": {
   "display_name": "tutor",
   "language": "python",
   "name": "python3"
  },
  "language_info": {
   "name": "python",
   "version": "3.12.10"
  }
 },
 "nbformat": 4,
 "nbformat_minor": 5
}
