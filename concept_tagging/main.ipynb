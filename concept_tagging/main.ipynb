{
 "cells": [
  {
   "cell_type": "code",
   "execution_count": 3,
   "id": "fac57303",
   "metadata": {},
   "outputs": [],
   "source": [
    "import os\n",
    "from supabase import create_client, Client\n",
    "\n",
    "# Replace with your Supabase project URL and public anon key\n",
    "SUPABASE_URL = os.environ.get(\"SUPABASE_URL\")\n",
    "SUPABASE_KEY = os.environ.get(\"SUPABASE_KEY\")\n",
    "\n",
    "supabase: Client = create_client(SUPABASE_URL, SUPABASE_KEY)"
   ]
  },
  {
   "cell_type": "code",
   "execution_count": 5,
   "id": "8f30c73d",
   "metadata": {},
   "outputs": [
    {
     "name": "stdout",
     "output_type": "stream",
     "text": [
      "[{'id': 1, 'question': \"Two friends plan to walk along a 43-km trail, starting at opposite ends of the trail at the same time. If Friend P's rate is 15% faster than Friend Q's, how many kilometers will Friend P have walked when they pass each other?\", 'options': ['A)21', 'B)21.5', 'C)22', 'D)22.5', 'E)23'], 'rationale': 'If Q complete x kilometers, then P completes 1.15x kilometers.\\nx + 1.15x = 43\\n2.15x=43\\nx = 43/2.15 = 20\\nThen P will have have walked 1.15*20=23 km.\\nThe answer is E.', 'correct': 'E'}, {'id': 2, 'question': 'In the coordinate plane, points (x, 1) and (5, y) are on line k. If line k passes through the origin and has slope 1/5, then what are the values of x and y respectively?', 'options': ['A)4 and 1', 'B)1 and 5', 'C)5 and 1', 'D)3 and 5', 'E)5 and 3'], 'rationale': 'Line k passes through the origin and has slope 1/5 means that its equation is y=1/5*x.\\nThus: (x, 1)=(5, 1) and (5, y) = (5,1) -->x=5 and y=1\\nAnswer: C', 'correct': 'C'}, {'id': 3, 'question': 'For all numbers p and q, the operation @ is defined by p@q = p^2 - pq. If xy ≠ 0, then which of the following can be equal to zero?\\nI. x@y\\nII. (xy)@y\\nIII. x@(x + y)', 'options': ['A)II', 'B)I and II', 'C)I and III', 'D)II and III', 'E)All of the above'], 'rationale': 'p@q = p^2 - pq=p(p-q).... so p@q will be zero if p=q or p=0.. but a cannot be equal to 0.. as per Q, x and y can take any int value except 0...\\nnow lets look at the choices..\\nwhen x=y, it will be 0... so ok...\\nwhen we put xy=y, it is possible when x=1 and y any integer... so ok again\\nwhen we put x=x+y.... only possibility when y=0 and it is given x and y cannot be 0....so not possible\\nonly l and ll possible ans B....', 'correct': 'B'}, {'id': 4, 'question': 'Carl is facing very difficult financial times and can only pay the interest on a $10,000 loan he has taken. The bank charges him a quarterly compound rate of 4%. What is the approximate interest he pays annually?', 'options': ['A)$1600', 'B)$2000', 'C)$2150', 'D)$2500', 'E)$12000'], 'rationale': 'Usually, you are given the annual rate of interest and it is mentioned that it is annual rate.\\nThe bank charges him a quarterly compounded ANNUAL rate of 16%.\\nHere you find per quarter rate as (16/4)% = 4%\\nI have actually never seen a question with quarter rate given but since this question did not mentionannual rate of interestand since the options did not make sense with 4% annual rate of interest, it is apparent that the intent was a 4% quarterly rate. So the bank charges 4% every quarter and compounds it in the next quarter. Had it been a simple quarterly rate, we would have just found 4 * 4% of 10,000 = $1600 as our answer.\\nBut since, the interest is compounded, it will be a bit more than $1600. Option (A) looks correct.', 'correct': 'A'}, {'id': 5, 'question': 'The speed at which a man can row a boat in still water is 25 kmph. If he rows downstream, where the speed of current is 11 kmph, what time will he take to cover 80 metres?', 'options': ['A)18 seconds', 'B)27 seconds', 'C)26 seconds', 'D)12 seconds', 'E)8 seconds'], 'rationale': 'Speed of the boat downstream = 25 +11\\n= 36 kmph\\n= 36 * 5/18 = 10 m/s\\nHence time taken to cover 80 m = 80/10\\n= 8 seconds.\\nAnswer:E', 'correct': 'E'}]\n"
     ]
    }
   ],
   "source": [
    "# Query the top 5 rows from the \"aqua_rat_train\" table\n",
    "response = supabase.table(\"aqua_rat_train\").select(\"*\").limit(5).execute()\n",
    "\n",
    "# Print the query result\n",
    "print(response.data)"
   ]
  },
  {
   "cell_type": "code",
   "execution_count": null,
   "id": "bf05cc35",
   "metadata": {},
   "outputs": [],
   "source": [
    "# TODO: create a tagging logic to assign concepts to math problems\n",
    "\n",
    "from langchain import PromptTemplate, LLMChain\n",
    "from langchain.llms import OpenAI\n",
    "import json\n",
    "\n",
    "# Define the prompt template for math concept tagging\n",
    "template = \"\"\"\n",
    "You are an expert in math education. Your task is to identify the Common Core high school math conceptual categories that each given math word problem relates to. The possible categories are: Number and Quantity, Algebra, Functions, Modeling, Geometry, Statistics and Probability.\n",
    "\n",
    "Here are some examples:\n",
    "\n",
    "Example 1:\n",
    "Question: Solve for x: 2x + 3 = 7\n",
    "Categories: Expressions and Equations\n",
    "\n",
    "Example 2:\n",
    "Question: What is the area of a rectangle with length 5 and width 3?\n",
    "Categories: Area and Volume\n",
    "\n",
    "Example 3:\n",
    "Question: If a train travels at 60 km/h, how far will it travel in 2 hours?\n",
    "Categories: Dimensional Analysis, Operations with fractions and decimals\n",
    "\n",
    "Now, for the following question, list all the categories that apply:\n",
    "\n",
    "Question: {question}\n",
    "\n",
    "Categories:\n",
    "\"\"\"\n",
    "\n",
    "# Create the prompt\n",
    "prompt = PromptTemplate(template=template, input_variables=[\"question\"])\n",
    "\n",
    "# Initialize the LLM (replace with your API key and preferred model)\n",
    "llm = OpenAI(temperature=0, model_name=\"gpt-4\")  # Use GPT-4 for better accuracy\n",
    "\n",
    "# Create the LLMChain\n",
    "chain = LLMChain(llm=llm, prompt=prompt)\n",
    "\n",
    "# Function to tag a question\n",
    "def tag_question(question):\n",
    "    result = chain.run(question=question)\n",
    "    return result.strip().split(\", \")  # Split the output into a list of categories\n",
    "\n",
    "# Example: Process a sample question\n",
    "sample_question = \"A grocery sells a bag of ice for $1.25, and makes 20% profit. If it sells 500 bags of ice, how much total profit does it make?\"\n",
    "tags = tag_question(sample_question)\n",
    "print(f\"Question: {sample_question}\")\n",
    "print(f\"Tags: {tags}\")\n",
    "\n",
    "# Example: Process the Aqua Rat dataset (assuming JSON format)\n",
    "def process_dataset(dataset_path, output_path):\n",
    "    with open(dataset_path, 'r') as f:\n",
    "        dataset = json.load(f)\n",
    "    \n",
    "    tagged_dataset = []\n",
    "    for item in dataset:\n",
    "        question = item['question']\n",
    "        tags = tag_question(question)\n",
    "        item['concepts'] = tags\n",
    "        tagged_dataset.append(item)\n",
    "    \n",
    "    with open(output_path, 'w') as f:\n",
    "        json.dump(tagged_dataset, f, indent=2)\n",
    "\n",
    "# Example usage (uncomment to run)\n",
    "# dataset_path = \"aqua_rat.json\"\n",
    "# output_path = \"aqua_rat_tagged.json\"\n",
    "# process_dataset(dataset_path, output_path)"
   ]
  }
 ],
 "metadata": {
  "kernelspec": {
   "display_name": "tutor",
   "language": "python",
   "name": "python3"
  },
  "language_info": {
   "codemirror_mode": {
    "name": "ipython",
    "version": 3
   },
   "file_extension": ".py",
   "mimetype": "text/x-python",
   "name": "python",
   "nbconvert_exporter": "python",
   "pygments_lexer": "ipython3",
   "version": "3.12.10"
  }
 },
 "nbformat": 4,
 "nbformat_minor": 5
}
